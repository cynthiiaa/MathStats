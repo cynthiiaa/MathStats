{
  "nbformat": 4,
  "nbformat_minor": 0,
  "metadata": {
    "colab": {
      "provenance": [],
      "authorship_tag": "ABX9TyMqI8JZX+j+xN3EUGVQHDZG",
      "include_colab_link": true
    },
    "kernelspec": {
      "name": "python3",
      "display_name": "Python 3"
    },
    "language_info": {
      "name": "python"
    }
  },
  "cells": [
    {
      "cell_type": "markdown",
      "metadata": {
        "id": "view-in-github",
        "colab_type": "text"
      },
      "source": [
        "<a href=\"https://colab.research.google.com/github/cynthiiaa/MathStats/blob/main/Homework13.ipynb\" target=\"_parent\"><img src=\"https://colab.research.google.com/assets/colab-badge.svg\" alt=\"Open In Colab\"/></a>"
      ]
    },
    {
      "cell_type": "markdown",
      "source": [
        "## **Problem 13.3.2**\n",
        "\n",
        "H0: There is no difference in the average number of trials needed to learn depth perception between mothered lambs and unmothered lambs\n",
        "\n",
        "Ha: There is a difference in the average number of trials needed to learn depth perception between mothered lambs and unmothered lambs"
      ],
      "metadata": {
        "id": "13e4lQzfGTx4"
      }
    },
    {
      "cell_type": "code",
      "execution_count": 1,
      "metadata": {
        "id": "XHYga-UHF8Xo"
      },
      "outputs": [],
      "source": [
        "import numpy as np"
      ]
    },
    {
      "cell_type": "code",
      "source": [
        "# get data\n",
        "\n",
        "alpha = 0.5\n",
        "mothered_lambs = [2,3,5,3,2,1,1,5,3,1,7,3,5]\n",
        "unmothered_lambs = [3,11,10,5,5,4,2,7,5,4,8,12,7]\n",
        "difference = [x1-x2 for x1,x2 in zip(mothered_lambs, unmothered_lambs)]\n",
        "n = len(mothered_lambs)\n",
        "\n",
        "# get sample statistics\n",
        "mean = np.mean(difference)\n",
        "std = np.std(difference)\n",
        "\n",
        "# print results\n",
        "print(f\"Difference between mothered trials and unmothered trials: {difference}\")\n",
        "print(f\"Sample mean of difference data: {mean}\")\n",
        "print(f\"Sample standard deviation of difference data:{std}\")\n",
        "\n",
        "# determine t-statistic\n",
        "df = 12\n",
        "half_of_alpha = 0.025\n",
        "t0 = 2.1788\n",
        "t1 = (mean) / (std/np.sqrt(n))\n",
        "\n",
        "print(f\"\\nt0 = {t0}\")\n",
        "print(f\"t1 = {t1}\\n\")\n",
        "\n",
        "if t1 < t0:\n",
        "  print(\"We Reject Null Hypothesis\")\n",
        "else:\n",
        "  print(\"We Fail to Reject Null Hypothesis\")"
      ],
      "metadata": {
        "colab": {
          "base_uri": "https://localhost:8080/"
        },
        "id": "fRWjhto5GiV9",
        "outputId": "82b45613-1b76-4f21-ace0-e6e77e954b23"
      },
      "execution_count": 2,
      "outputs": [
        {
          "output_type": "stream",
          "name": "stdout",
          "text": [
            "Difference between mothered trials and unmothered trials: [-1, -8, -5, -2, -3, -3, -1, -2, -2, -3, -1, -9, -2]\n",
            "Sample mean of difference data: -3.230769230769231\n",
            "Sample standard deviation of difference data:2.4854606802159247\n",
            "\n",
            "t0 = 2.1788\n",
            "t1 = -4.686738443883904\n",
            "\n",
            "We Reject Null Hypothesis\n"
          ]
        }
      ]
    },
    {
      "cell_type": "markdown",
      "source": [
        "**Conclusion**\n",
        "\n",
        "Since the t-test value is less than the critical value, we reject the null hypothesis."
      ],
      "metadata": {
        "id": "F2MyAeumV07t"
      }
    },
    {
      "cell_type": "markdown",
      "source": [
        "## **Problem 13.3.6**\n",
        "\n",
        "Construct a 95 % confidence interval"
      ],
      "metadata": {
        "id": "5L4kFgQPMuq4"
      }
    },
    {
      "cell_type": "code",
      "source": [
        "# givens\n",
        "c = 0.95\n",
        "a = 1 - c\n",
        "d = 0.47\n",
        "s_squared = 0.662\n",
        "n = 10\n",
        "df = n -1\n",
        "\n",
        "t_at_half_alpha = 2.2622\n",
        "\n",
        "E = t_at_half_alpha * (np.sqrt(s_squared)/np.sqrt(n))\n",
        "\n",
        "lower_bound = d - E\n",
        "upper_bound = d + E\n",
        "\n",
        "print(f\"Confidence Interval: ({lower_bound.round(6)} , {upper_bound.round(6)})\")"
      ],
      "metadata": {
        "colab": {
          "base_uri": "https://localhost:8080/"
        },
        "id": "0fftKx6UG4i2",
        "outputId": "09995a78-2667-4698-8ec0-314cf7142e5d"
      },
      "execution_count": 3,
      "outputs": [
        {
          "output_type": "stream",
          "name": "stdout",
          "text": [
            "Confidence Interval: (-0.11205 , 1.05205)\n"
          ]
        }
      ]
    },
    {
      "cell_type": "markdown",
      "source": [
        "## **Problem 14.2.6**\n",
        "\n",
        "Analyze Shoshoni rectangle data with a sign test\n",
        "\n",
        "H0: u = 0.618\n",
        "\n",
        "Ha: u ≠ 0.618\n"
      ],
      "metadata": {
        "id": "WYqwBKNIQg5r"
      }
    },
    {
      "cell_type": "code",
      "source": [
        "# givens\n",
        "\n",
        "a = 0.05\n",
        "n = 20\n",
        "x = 9  # 9 values are below the median\n",
        "z_test = (x - (n/2)) / np.sqrt(n/4)\n",
        "print(f\"z-test: {z_test}\\n\")\n",
        "\n",
        "# from distribution table\n",
        "z1 = 1.96\n",
        "z2 = -1.96\n",
        "\n",
        "# I understand this isn't the best way to check if a float number is within a range\n",
        "if z2 <= z_test <= z1:\n",
        "  print(\"We Fail to Reject Null Hypothese\")\n",
        "else:\n",
        "  print(\"We Reject Null Hypothesis\")"
      ],
      "metadata": {
        "colab": {
          "base_uri": "https://localhost:8080/"
        },
        "id": "n9nTZPgCOyfL",
        "outputId": "5d5a943c-ae77-43fd-a5c6-62bb01756487"
      },
      "execution_count": 4,
      "outputs": [
        {
          "output_type": "stream",
          "name": "stdout",
          "text": [
            "z-test: -0.4472135954999579\n",
            "\n",
            "We Fail to Reject Null Hypothese\n"
          ]
        }
      ]
    },
    {
      "cell_type": "markdown",
      "source": [
        "**Conclusion:**\n",
        "\n",
        "Since the z-test value is within the range of critical values, we fail to reject the null hypothesis."
      ],
      "metadata": {
        "id": "GGUVsf_hVa5c"
      }
    }
  ]
}