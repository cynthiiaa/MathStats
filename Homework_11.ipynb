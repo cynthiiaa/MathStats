{
  "nbformat": 4,
  "nbformat_minor": 0,
  "metadata": {
    "colab": {
      "provenance": [],
      "authorship_tag": "ABX9TyNVXplWL7XPnYb+GhjhVhqd",
      "include_colab_link": true
    },
    "kernelspec": {
      "name": "python3",
      "display_name": "Python 3"
    },
    "language_info": {
      "name": "python"
    }
  },
  "cells": [
    {
      "cell_type": "markdown",
      "metadata": {
        "id": "view-in-github",
        "colab_type": "text"
      },
      "source": [
        "<a href=\"https://colab.research.google.com/github/cynthiiaa/MathStats/blob/main/Homework_11.ipynb\" target=\"_parent\"><img src=\"https://colab.research.google.com/assets/colab-badge.svg\" alt=\"Open In Colab\"/></a>"
      ]
    },
    {
      "cell_type": "code",
      "execution_count": 1,
      "metadata": {
        "id": "LxTvLusP_yjk"
      },
      "outputs": [],
      "source": [
        "import matplotlib.pyplot as plt\n",
        "import numpy as np\n",
        "import pandas as pd\n",
        "import math"
      ]
    },
    {
      "cell_type": "code",
      "source": [
        "# Problem 11.2.26\n",
        "\n",
        "x = np.log([360, 165, 21, 23, 11, 18, 18, 150, 45, 45, 18])\n",
        "y = np.log([90, 105, 21, 26, 14, 28, 21, 105, 68, 75, 46])\n",
        "a1, b1 = np.polyfit(x, y, 1)\n",
        "\n",
        "\n",
        "plt.scatter(x,y)\n",
        "plt.xlabel('x')\n",
        "plt.xlim(2, 6)\n",
        "plt.ylabel('y')\n",
        "plt.ylim(2, 6)\n",
        "plt.plot(x, a1*x+b1, \"purple\")\n",
        "plt.show()"
      ],
      "metadata": {
        "colab": {
          "base_uri": "https://localhost:8080/",
          "height": 283
        },
        "id": "75sf8AvwA-hX",
        "outputId": "55e3733a-b95a-4d72-8ff3-c589aa249fa7"
      },
      "execution_count": 2,
      "outputs": [
        {
          "output_type": "display_data",
          "data": {
            "text/plain": [
              "<Figure size 432x288 with 1 Axes>"
            ],
            "image/png": "[encoded data removed]"
          },
          "metadata": {
            "needs_background": "light"
          }
        }
      ]
    },
    {
      "cell_type": "code",
      "source": [
        "sum_of_log_xs = np.sum(x)\n",
        "sum_of_log_ys = np.sum(y)\n",
        "\n",
        "sum_of_log_xs_sqrd = sum_of_log_xs**2\n",
        "sum_of_log_ys_sqrd = sum_of_log_ys**2\n",
        "\n",
        "len_of_data = len(x)\n",
        "\n",
        "numerator = (len_of_data*sum_of_log_ys_sqrd) - (sum_of_log_xs*sum_of_log_ys)\n",
        "demoninator = (len_of_data*sum_of_log_xs_sqrd) - sum_of_log_xs**2\n",
        "\n",
        "b = numerator/demoninator\n",
        "a = math.pow(10, (sum_of_log_ys - a1*sum_of_log_xs) / len_of_data)"
      ],
      "metadata": {
        "id": "cW5wXnQWCJwR"
      },
      "execution_count": 3,
      "outputs": []
    },
    {
      "cell_type": "code",
      "source": [
        "y_hat = math.pow(a*45, a1)\n",
        "y_hat"
      ],
      "metadata": {
        "colab": {
          "base_uri": "https://localhost:8080/"
        },
        "id": "m0SW2MD_GNno",
        "outputId": "7fe88802-817c-4f63-daf7-188aa8185cd8"
      },
      "execution_count": 4,
      "outputs": [
        {
          "output_type": "execute_result",
          "data": {
            "text/plain": [
              "74.7933578119921"
            ]
          },
          "metadata": {},
          "execution_count": 4
        }
      ]
    },
    {
      "cell_type": "code",
      "source": [
        "# Problem 11.3.2 part c\n",
        "\n",
        "x = np.array([10.0, 10.2, 10.2, 10.3, 10.3, 10.8, 11.0, 11.0, 11.2, 11.6, 12.1, 12.3, 12.6, 12.7, 12.9, 13.0, 13.9, 14.5, 14.7, 15.5, 16.4, 17.5, 18.1, 20.8, 22.4, 24.0])\n",
        "y = np.array([88.7, 93.2, 95.1, 94.0, 88.3, 89.9, 67.7, 90.2, 95.5, 75.2, 84.6, 85.0, 94.8, 56.1, 54.4, 97.9, 83.0, 94.0, 91.4, 94.2, 97.2, 94.4, 78.6, 87.6, 93.3, 92.3])\n",
        "# y_hat = 81.088 + 0.412*x\n",
        "\n",
        "a2, b2 = np.polyfit(x, y, 1)\n",
        "\n",
        "\n",
        "plt.scatter(x,y)\n",
        "plt.xlabel('x')\n",
        "plt.xlim(8, 30)\n",
        "plt.ylabel('y')\n",
        "plt.ylim(40, 110)\n",
        "plt.plot(x, 81.088 + 0.412*x, \"green\")\n",
        "plt.show()"
      ],
      "metadata": {
        "colab": {
          "base_uri": "https://localhost:8080/",
          "height": 283
        },
        "id": "MJWKWDmiLdFd",
        "outputId": "2d7f5abe-104d-4616-cab6-253361cc9f49"
      },
      "execution_count": 5,
      "outputs": [
        {
          "output_type": "display_data",
          "data": {
            "text/plain": [
              "<Figure size 432x288 with 1 Axes>"
            ],
            "image/png": "[encoded data removed]"
          },
          "metadata": {
            "needs_background": "light"
          }
        }
      ]
    }
  ]
}