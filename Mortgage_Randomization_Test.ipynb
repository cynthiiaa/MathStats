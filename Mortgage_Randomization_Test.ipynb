{
  "nbformat": 4,
  "nbformat_minor": 0,
  "metadata": {
    "colab": {
      "provenance": [],
      "collapsed_sections": [],
      "authorship_tag": "ABX9TyNDY+ZC0FySa4KStYcNpQI6",
      "include_colab_link": true
    },
    "kernelspec": {
      "name": "python3",
      "display_name": "Python 3"
    },
    "language_info": {
      "name": "python"
    }
  },
  "cells": [
    {
      "cell_type": "markdown",
      "metadata": {
        "id": "view-in-github",
        "colab_type": "text"
      },
      "source": [
        "<a href=\"https://colab.research.google.com/github/cynthiiaa/MathStats/blob/main/Mortgage_Randomization_Test.ipynb\" target=\"_parent\"><img src=\"https://colab.research.google.com/assets/colab-badge.svg\" alt=\"Open In Colab\"/></a>"
      ]
    },
    {
      "cell_type": "code",
      "execution_count": 1,
      "metadata": {
        "id": "tPJ4Kj7xE53O"
      },
      "outputs": [],
      "source": [
        "import numpy as np\n",
        "import scipy.stats as stats"
      ]
    },
    {
      "cell_type": "code",
      "source": [
        "fixed_mortgage_rates = (3.525, 3.625, 3.383, 3.625, 3.661, 3.791, 3.941, 3.781, 3.660, 3.733)\n",
        "arm_rates = (2.923, 3.385, 3.154, 3.363, 3.226, 3.283, 3.427, 3.437, 3.746, 3.438)\n",
        "alpha = 0.01\n",
        "\n",
        "# compute difference in mean between fixed and ARM rates\n",
        "fixed_mean = np.mean(fixed_mortgage_rates)\n",
        "arm_mean = np.mean(arm_rates)\n",
        "\n",
        "diff_in_mean_obs = abs(fixed_mean - arm_mean)\n",
        "print(\"Difference in mean between fixed mortgage rates and ARM rates: \", round(diff_in_mean_obs, 4), \"\\n\")\n",
        "\n",
        "# Check if difference is significiantly different\n",
        "\n",
        "# 1. check if variance between both data sets is equal\n",
        "fixed_variance = np.var(fixed_mortgage_rates)\n",
        "arm_variance = np.var(arm_rates)\n",
        "print(f\"fixed variance: {round(fixed_variance, 5)}\")\n",
        "print(f\"arm variance: {round(arm_variance, 5)}\\n\")\n",
        "\n",
        "# 2. perform t-test\n",
        "t_statistic, p_value = stats.ttest_ind(a=fixed_mortgage_rates, b=arm_rates, equal_var=False)\n",
        "\n",
        "print(f\"p-value: {p_value}\")\n",
        "print(t_statistic)"
      ],
      "metadata": {
        "colab": {
          "base_uri": "https://localhost:8080/"
        },
        "id": "l7MWpdFaFaaw",
        "outputId": "bd5fad6d-3c1a-4616-da8d-eaaa6dfffa9d"
      },
      "execution_count": 2,
      "outputs": [
        {
          "output_type": "stream",
          "name": "stdout",
          "text": [
            "Difference in mean between fixed mortgage rates and ARM rates:  0.3343 \n",
            "\n",
            "fixed variance: 0.02119\n",
            "arm variance: 0.04187\n",
            "\n",
            "p-value: 0.0010170039472342366\n",
            "3.993734925776083\n"
          ]
        }
      ]
    },
    {
      "cell_type": "code",
      "source": [
        "combined_rates = fixed_mortgage_rates + arm_rates\n",
        "n = 1000\n",
        "differences = []\n",
        "\n",
        "# keep tract of difference in mean from 1000 random samples \n",
        "for _ in range(n):\n",
        "  chosen_rates = np.random.choice(combined_rates, size=10, replace=False)\n",
        "  not_chosen_rates = [val for val in combined_rates if val not in chosen_rates]\n",
        "\n",
        "  diff_in_mean_samples = abs(np.mean(chosen_rates) - np.mean(not_chosen_rates))\n",
        "  differences.append(diff_in_mean_samples)\n",
        "\n",
        "# extream differences\n",
        "unusual_means = [x for x in differences if x > diff_in_mean_obs]\n",
        "\n",
        "# report p-value\n",
        "p_value = len(unusual_means) / n\n",
        "print(f\"p-value: {round(p_value, 6)}\")"
      ],
      "metadata": {
        "colab": {
          "base_uri": "https://localhost:8080/"
        },
        "id": "JKGl9M6HGeaj",
        "outputId": "aab0d48a-d86d-48c0-ea6d-83bada48d699"
      },
      "execution_count": 3,
      "outputs": [
        {
          "output_type": "stream",
          "name": "stdout",
          "text": [
            "p-value: 0.001\n"
          ]
        }
      ]
    },
    {
      "cell_type": "markdown",
      "source": [
        "The null hypothesis is: The true mean rates for fix-mortgage rates and ARM rates are equal.\n",
        "\n",
        "From using both the t-test method and randomization tests we see that $$ p-value < \\alpha $$\n",
        "We can reject the null hypothesis."
      ],
      "metadata": {
        "id": "-FPIsfzwTv3g"
      }
    },
    {
      "cell_type": "code",
      "source": [],
      "metadata": {
        "id": "cGdfoVBVVct-"
      },
      "execution_count": null,
      "outputs": []
    }
  ]
}