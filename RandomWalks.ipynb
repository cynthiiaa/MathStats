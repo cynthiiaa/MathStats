{
  "nbformat": 4,
  "nbformat_minor": 0,
  "metadata": {
    "colab": {
      "provenance": [],
      "authorship_tag": "ABX9TyNO2REl5uFSKxhN7YR8BtsR",
      "include_colab_link": true
    },
    "kernelspec": {
      "name": "python3",
      "display_name": "Python 3"
    },
    "language_info": {
      "name": "python"
    }
  },
  "cells": [
    {
      "cell_type": "markdown",
      "metadata": {
        "id": "view-in-github",
        "colab_type": "text"
      },
      "source": [
        "<a href=\"https://colab.research.google.com/github/cynthiiaa/MathStats/blob/main/RandomWalks.ipynb\" target=\"_parent\"><img src=\"https://colab.research.google.com/assets/colab-badge.svg\" alt=\"Open In Colab\"/></a>"
      ]
    },
    {
      "cell_type": "markdown",
      "source": [
        "Q4: Measure the average number of steps a random walker takes in 2D to return to the origin for the first time by simulating the random walk multiple times.\n",
        "\n",
        "We'll start at the origin (0,0). For each step, the object can go 1, 0, or -1 in either x or y. Resulting in 9 possible moves.\n",
        "\n",
        "* (1,-1)  (1,0)  (1,1)\n",
        "* (0,-1)  (0,0) (0, 1)\n",
        "* (-1,-1) (-1, 0) (-1, 1)\n",
        "\n",
        "We'll get the average number of steps taken for several different experiment sizes: n=1000, n=10000, and n=100000\n",
        "\n"
      ],
      "metadata": {
        "id": "iM-PTncuQ33T"
      }
    },
    {
      "cell_type": "code",
      "source": [
        "# imports\n",
        "\n",
        "import numpy as np"
      ],
      "metadata": {
        "id": "qPIicGeOUHnD"
      },
      "execution_count": null,
      "outputs": []
    },
    {
      "cell_type": "code",
      "source": [
        "def randomWalker(steps_taken = 0, random_step = [0,0]):\n",
        "\n",
        "  # this while loop will run until the first step is at a different location from the origin\n",
        "  while (np.array_equal(random_step, [0,0])):\n",
        "    random_step[0] = np.random.choice(a=[-1, 0, 1])\n",
        "    random_step[1] = np.random.choice(a=[-1, 0, 1])\n",
        "\n",
        "  # this while loop will generate the random walks and return the number of steps taken once the object get's back to the origin\n",
        "  while(~np.array_equal(random_step, [0,0])):\n",
        "    random_step[0] = np.random.choice(a=[-1, 0, 1])\n",
        "    random_step[1] = np.random.choice(a=[-1, 0, 1])\n",
        "    steps_taken += 1\n",
        "    if(np.array_equal(random_step, [0,0])):\n",
        "      return steps_taken\n",
        "\n",
        "# a function that returns the average number of steps taken to reach the origin again\n",
        "def avgNumOfStepsTaken(n, cumulative_sum=0):\n",
        "  for i in range(n):\n",
        "    cumulative_sum += randomWalker()\n",
        "  return cumulative_sum/n\n",
        "\n",
        "print(\"Average # of Steps Taken for size 1000:\",avgNumOfStepsTaken(n=1000))\n",
        "print(\"Average # of Steps Taken for size 10000:\",avgNumOfStepsTaken(n=10000))\n",
        "print(\"Average # of Steps Taken for size 100000:\",avgNumOfStepsTaken(n=100000))"
      ],
      "metadata": {
        "colab": {
          "base_uri": "https://localhost:8080/"
        },
        "id": "Dk9SdtNTT3mH",
        "outputId": "d11090ac-5313-400e-b050-ef720d4b76bb"
      },
      "execution_count": null,
      "outputs": [
        {
          "output_type": "stream",
          "name": "stdout",
          "text": [
            "Average # of Steps Taken for size 1000: 8.855\n",
            "Average # of Steps Taken for size 10000: 8.9045\n",
            "Average # of Steps Taken for size 100000: 9.02299\n"
          ]
        }
      ]
    }
  ]
}