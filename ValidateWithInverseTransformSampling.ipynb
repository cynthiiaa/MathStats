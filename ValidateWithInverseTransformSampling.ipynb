{
  "nbformat": 4,
  "nbformat_minor": 0,
  "metadata": {
    "colab": {
      "provenance": [],
      "authorship_tag": "ABX9TyPB0Oo510IdDRJItDb431IK",
      "include_colab_link": true
    },
    "kernelspec": {
      "name": "python3",
      "display_name": "Python 3"
    },
    "language_info": {
      "name": "python"
    }
  },
  "cells": [
    {
      "cell_type": "markdown",
      "metadata": {
        "id": "view-in-github",
        "colab_type": "text"
      },
      "source": [
        "<a href=\"https://colab.research.google.com/github/cynthiiaa/MathStats/blob/main/ValidateWithInverseTransformSampling.ipynb\" target=\"_parent\"><img src=\"https://colab.research.google.com/assets/colab-badge.svg\" alt=\"Open In Colab\"/></a>"
      ]
    },
    {
      "cell_type": "markdown",
      "source": [
        "I'll be validaing my answers to homework problems 4 and 6 using Inverse Transform Sampling.\n",
        "\n",
        "<br>For problem 4, the pdf is given as $$f_Y\\left(y\\right)=2y$$\n",
        "The cdf is $$F_Y\\left(y\\right)=y^2$$\n",
        "The inverse of the cdf is $$\\sqrt{x}$$\n",
        "My theoretical result is $$ P(Y'_1 <0.6< Y'_5) ≈ 0.887 $$"
      ],
      "metadata": {
        "id": "adv-4JhyzMHZ"
      }
    },
    {
      "cell_type": "code",
      "source": [
        "import math, random\n",
        "import matplotlib.pyplot as plt\n",
        "import numpy as np\n",
        "\n",
        "def inverse_cdf1(x):\n",
        "    return math.sqrt(x)\n",
        "\n",
        "# generate a random number, u, from the standard uniform distribution in interval [0,1]\n",
        "def sample_distribution(inverse_func):\n",
        "    u = random.random()\n",
        "    return inverse_func(u)"
      ],
      "metadata": {
        "id": "-KpfL--YzcUB"
      },
      "execution_count": null,
      "outputs": []
    },
    {
      "cell_type": "code",
      "source": [
        "def validate_probability(trials=1000):\n",
        "  summation = 0\n",
        "  for i in range(trials):\n",
        "    y = [sample_distribution(inverse_cdf1) for i in range(5)]\n",
        "    y.sort()\n",
        "    if y[0] < 0.6 and y[4] > 0.6:\n",
        "      summation += 1\n",
        "  return summation/trials"
      ],
      "metadata": {
        "id": "Pn5DKjLv3Cs_"
      },
      "execution_count": null,
      "outputs": []
    },
    {
      "cell_type": "code",
      "source": [
        "print(validate_probability())"
      ],
      "metadata": {
        "colab": {
          "base_uri": "https://localhost:8080/"
        },
        "id": "6KeHYDWW8MPI",
        "outputId": "986d494c-2809-47f1-b934-eb2a7dc0972d"
      },
      "execution_count": null,
      "outputs": [
        {
          "output_type": "stream",
          "name": "stdout",
          "text": [
            "0.884\n"
          ]
        }
      ]
    },
    {
      "cell_type": "markdown",
      "source": [
        "**As you can see, 0.884 is very close to 0.887**"
      ],
      "metadata": {
        "id": "xWx47uhBOUu1"
      }
    },
    {
      "cell_type": "markdown",
      "source": [
        "For problem 10, the pdf is given as $$f_Y\\left(y\\right)=e^{-y}$$\n",
        "The cdf is $$F_Y\\left(y\\right)=1-e^{-y}$$\n",
        "The inverse of the cdf is $$-\\ln\\left(1-x\\right)$$\n",
        "<br>My theoretical result is that **n** needs to be at least 12 in order for this condition to hold $$P\\left(Y_{\\min}<0.2\\right)>0.9$$"
      ],
      "metadata": {
        "id": "SfcCpkyGD0U7"
      }
    },
    {
      "cell_type": "code",
      "source": [
        "def inverse_cdf2(x):\n",
        "    return -np.log(1-x)\n",
        "\n",
        "def validate_n(trials=1000, n=12):\n",
        "  summation = 0\n",
        "  for i in range(trials):\n",
        "    y = [sample_distribution(inverse_cdf2) for i in range(n)]\n",
        "    y.sort()\n",
        "    if y[0] < 0.2:\n",
        "      summation += 1\n",
        "  return summation/trials"
      ],
      "metadata": {
        "id": "DV3jBOXiFdSL"
      },
      "execution_count": null,
      "outputs": []
    },
    {
      "cell_type": "code",
      "source": [
        "print(validate_n())"
      ],
      "metadata": {
        "colab": {
          "base_uri": "https://localhost:8080/"
        },
        "id": "xsnFkznzJTNW",
        "outputId": "ac392648-1302-4bef-c499-5af719d4fdec"
      },
      "execution_count": null,
      "outputs": [
        {
          "output_type": "stream",
          "name": "stdout",
          "text": [
            "0.906\n"
          ]
        }
      ]
    },
    {
      "cell_type": "markdown",
      "source": [
        "**As you can see, 0.906 is very close to 0.9**"
      ],
      "metadata": {
        "id": "i8YP3-jUOjFo"
      }
    }
  ]
}