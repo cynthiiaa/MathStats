{
  "nbformat": 4,
  "nbformat_minor": 0,
  "metadata": {
    "colab": {
      "provenance": [],
      "collapsed_sections": [],
      "authorship_tag": "ABX9TyPyqe7Tn4IQXAiVq8MN7+be",
      "include_colab_link": true
    },
    "kernelspec": {
      "name": "python3",
      "display_name": "Python 3"
    },
    "language_info": {
      "name": "python"
    }
  },
  "cells": [
    {
      "cell_type": "markdown",
      "metadata": {
        "id": "view-in-github",
        "colab_type": "text"
      },
      "source": [
        "<a href=\"https://colab.research.google.com/github/cynthiiaa/MathStats/blob/main/WorldSeries_Simulation.ipynb\" target=\"_parent\"><img src=\"https://colab.research.google.com/assets/colab-badge.svg\" alt=\"Open In Colab\"/></a>"
      ]
    },
    {
      "cell_type": "markdown",
      "source": [
        "Consider a Baseball World Series (best of 7 game series) in which team A theoretically \n",
        "has a 0.55 chance of winning each game against team B. Simulate the probability that team A \n",
        "would win a World Series against team B by simulating 1000 World Series. You many use any \n",
        "software to conduct the simulation.  \n",
        "\n",
        "P(Team A Winning) = 0.55\n",
        "\n",
        "P(Team B Winning) = 1 - 0.55 = .45\n",
        "\n",
        "P(Team A wins a series) ​= P(A wins 4 games) + P(A wins 5 games) + P(A wins 6 games) + P(A wins 7 games)\n",
        "\n",
        "P(Team A wins a series) ​= $$ p^4+p^4\\binom{4}{1}\\left(1-p\\right)+p^4\\binom{5}{2}\\left(1-p\\right)^2+p^4\\binom{6}{3}\\left(1-p\\right)^3 $$"
      ],
      "metadata": {
        "id": "-UJlfuVFP3ZN"
      }
    },
    {
      "cell_type": "code",
      "source": [
        "import math\n",
        "\n",
        "def nCr(n,r):\n",
        "    f = math.factorial\n",
        "    return f(n) // f(r) // f(n-r)"
      ],
      "metadata": {
        "id": "GWNflt-vX1Mf"
      },
      "execution_count": 1,
      "outputs": []
    },
    {
      "cell_type": "code",
      "source": [
        "# my first attempt\n",
        "\n",
        "p = 0.55\n",
        "a_wins_4 = p**4\n",
        "a_wins_5 = a_wins_4 * nCr(4,1) * (1-p)\n",
        "a_wins_6 = a_wins_4 * nCr(5,2) * (1-p)**2\n",
        "a_wins_7 = a_wins_4 * nCr(6,3) * (1-p)**3\n",
        "\n",
        "team_A_wins = a_wins_4 + a_wins_5 + a_wins_6 + a_wins_7\n",
        "print(team_A_wins)"
      ],
      "metadata": {
        "colab": {
          "base_uri": "https://localhost:8080/"
        },
        "id": "HTL6JlWLP49w",
        "outputId": "45acb267-75df-4d0c-db30-65cf5c4fcc12"
      },
      "execution_count": 2,
      "outputs": [
        {
          "output_type": "stream",
          "name": "stdout",
          "text": [
            "0.608287796875\n"
          ]
        }
      ]
    },
    {
      "cell_type": "code",
      "source": [
        "def worldSeriesSim(n):\n",
        "  simulation_sum = 0\n",
        "  for i in range(n):\n",
        "    simulation_sum += (a_wins_4 + a_wins_5 + a_wins_6 + a_wins_7)\n",
        "  return simulation_sum/n\n",
        "\n",
        "print(worldSeriesSim(1000))"
      ],
      "metadata": {
        "colab": {
          "base_uri": "https://localhost:8080/"
        },
        "id": "fBwTD8vgX-BN",
        "outputId": "bcea49db-e79c-4d2b-ecc1-78b0fb1f439e"
      },
      "execution_count": 3,
      "outputs": [
        {
          "output_type": "stream",
          "name": "stdout",
          "text": [
            "0.6082877968749945\n"
          ]
        }
      ]
    },
    {
      "cell_type": "code",
      "source": [
        "# another attempt\n",
        "\n",
        "import numpy as np\n",
        "\n",
        "def worldSeriesSim2(n):\n",
        "  simulation_sum = 0\n",
        "  for i in range(n):\n",
        "    simulation_sum += sum(np.random.binomial(7, 0.55, 1000) >= 4)/1000\n",
        "  return simulation_sum/n\n",
        "\n",
        "print(worldSeriesSim2(1000))\n"
      ],
      "metadata": {
        "colab": {
          "base_uri": "https://localhost:8080/"
        },
        "id": "wh171hc9ba-W",
        "outputId": "758e4330-aee4-4d15-ebea-9aa18fb901ea"
      },
      "execution_count": 4,
      "outputs": [
        {
          "output_type": "stream",
          "name": "stdout",
          "text": [
            "0.6076180000000014\n"
          ]
        }
      ]
    },
    {
      "cell_type": "markdown",
      "source": [
        "P(Team A wins) ​= ~0.608 or 60.8%"
      ],
      "metadata": {
        "id": "CygEOCt3hJRe"
      }
    }
  ]
}